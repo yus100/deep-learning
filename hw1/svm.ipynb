{
 "cells": [
  {
   "cell_type": "code",
   "execution_count": null,
   "id": "5aa46aa4",
   "metadata": {},
   "outputs": [],
   "source": [
    "!pip install scikit-learn scikit-image"
   ]
  },
  {
   "cell_type": "code",
   "execution_count": null,
   "id": "a1758fae",
   "metadata": {},
   "outputs": [],
   "source": []
  },
  {
   "cell_type": "code",
   "execution_count": 6,
   "id": "80976cef",
   "metadata": {},
   "outputs": [],
   "source": [
    "from sklearn.datasets import fetch_openml\n",
    "from sklearn.model_selection import train_test_split\n",
    "import matplotlib.pyplot as plt\n",
    "import cv2\n",
    "\n",
    "ds = fetch_openml ('mnist_784', as_frame = False )\n",
    "x_train, x_test , y_train, y_test = train_test_split (ds.data, ds.target, test_size = 0.2, random_state = 42)"
   ]
  },
  {
   "cell_type": "code",
   "execution_count": 7,
   "id": "21c9690b",
   "metadata": {},
   "outputs": [
    {
     "data": {
      "text/plain": [
       "<matplotlib.image.AxesImage at 0x24a0f32af00>"
      ]
     },
     "execution_count": 7,
     "metadata": {},
     "output_type": "execute_result"
    },
    {
     "data": {
      "image/png": "[encoded data removed]",
      "text/plain": [
       "<Figure size 640x480 with 1 Axes>"
      ]
     },
     "metadata": {},
     "output_type": "display_data"
    }
   ],
   "source": [
    "a = x_train[0].reshape((28, 28))\n",
    "plt.imshow(a)"
   ]
  },
  {
   "cell_type": "code",
   "execution_count": 9,
   "id": "ccbacd50",
   "metadata": {},
   "outputs": [
    {
     "name": "stdout",
     "output_type": "stream",
     "text": [
      "SVM classifier created successfully\n"
     ]
    }
   ],
   "source": [
    "from sklearn import svm\n",
    "# Fix typo in kernel parameter\n",
    "classifier = svm.SVC(C=1.0, kernel='rbf', gamma='auto')\n",
    "print(\"SVM classifier created successfully\")"
   ]
  },
  {
   "cell_type": "code",
   "execution_count": null,
   "id": "d74d1b62",
   "metadata": {},
   "outputs": [],
   "source": [
    "classifier.fit(x_train, y_train)\n",
    "cprint(\"Training completed!\")\n"
   ]
  },
  {
   "cell_type": "code",
   "execution_count": null,
   "id": "38d355af",
   "metadata": {},
   "outputs": [],
   "source": [
    "# Run classifier on test data and calculate classification error\n",
    "print(\"Making predictions on test data...\")\n",
    "y_pred = classifier.predict(x_test)\n",
    "\n",
    "# Calculate classification error\n",
    "from sklearn.metrics import accuracy_score\n",
    "accuracy = accuracy_score(y_test_int, y_pred)\n",
    "classification_error = 1 - accuracy\n",
    "\n",
    "print(f\"Test set size: {len(y_test_int)}\")\n",
    "print(f\"Accuracy: {accuracy:.4f}\")\n",
    "print(f\"Classification Error: {classification_error:.4f}\")\n",
    "print(f\"Number of misclassified samples: {sum(y_test_int != y_pred)} out of {len(y_test_int)}\")\n"
   ]
  },
  {
   "cell_type": "code",
   "execution_count": null,
   "id": "d2b3de2b",
   "metadata": {},
   "outputs": [],
   "source": [
    "# Generate and display 10-class confusion matrix\n",
    "from sklearn.metrics import confusion_matrix\n",
    "import numpy as np\n",
    "import seaborn as sns\n",
    "\n",
    "# Create confusion matrix\n",
    "cm = confusion_matrix(y_test_int, y_pred)\n",
    "print(\"10-Class Confusion Matrix:\")\n",
    "print(\"Rows represent true labels, columns represent predicted labels\")\n",
    "print(cm)\n",
    "\n",
    "# Display confusion matrix as a heatmap\n",
    "plt.figure(figsize=(10, 8))\n",
    "sns.heatmap(cm, annot=True, fmt='d', cmap='Blues', \n",
    "            xticklabels=range(10), yticklabels=range(10))\n",
    "plt.title('Confusion Matrix - MNIST Digit Classification')\n",
    "plt.xlabel('Predicted Label')\n",
    "plt.ylabel('True Label')\n",
    "plt.show()\n"
   ]
  },
  {
   "cell_type": "code",
   "execution_count": null,
   "id": "d75f5bc9",
   "metadata": {},
   "outputs": [],
   "source": [
    "# Analyze patterns in the confusion matrix\n",
    "print(\"\\n=== CONFUSION MATRIX ANALYSIS ===\")\n",
    "\n",
    "# Calculate per-class accuracy\n",
    "per_class_accuracy = np.diag(cm) / np.sum(cm, axis=1)\n",
    "print(\"\\nPer-class accuracy:\")\n",
    "for i in range(10):\n",
    "    print(f\"Digit {i}: {per_class_accuracy[i]:.4f}\")\n",
    "\n",
    "# Find the most confused pairs\n",
    "print(\"\\nMost common misclassifications:\")\n",
    "# Create a copy of confusion matrix without diagonal (correct predictions)\n",
    "cm_errors = cm.copy()\n",
    "np.fill_diagonal(cm_errors, 0)\n",
    "\n",
    "# Find top 10 most common errors\n",
    "errors_flat = []\n",
    "for i in range(10):\n",
    "    for j in range(10):\n",
    "        if cm_errors[i, j] > 0:\n",
    "            errors_flat.append((cm_errors[i, j], i, j))\n",
    "\n",
    "errors_flat.sort(reverse=True)\n",
    "for count, true_label, pred_label in errors_flat[:10]:\n",
    "    print(f\"  {true_label} → {pred_label}: {count} times\")\n",
    "\n",
    "print(f\"\\nWorst performing digit: {np.argmin(per_class_accuracy)} (accuracy: {np.min(per_class_accuracy):.4f})\")\n",
    "print(f\"Best performing digit: {np.argmax(per_class_accuracy)} (accuracy: {np.max(per_class_accuracy):.4f})\")\n"
   ]
  },
  {
   "cell_type": "code",
   "execution_count": null,
   "id": "73820267",
   "metadata": {},
   "outputs": [],
   "source": [
    "# Additional analysis: Show examples of misclassified digits\n",
    "print(\"\\n=== EXAMPLES OF MISCLASSIFIED DIGITS ===\")\n",
    "\n",
    "# Find indices of misclassified samples\n",
    "misclassified_indices = np.where(y_test_int != y_pred)[0]\n",
    "\n",
    "# Show first 12 misclassified examples\n",
    "fig, axes = plt.subplots(3, 4, figsize=(12, 9))\n",
    "fig.suptitle('Examples of Misclassified Digits', fontsize=16)\n",
    "\n",
    "for i in range(min(12, len(misclassified_indices))):\n",
    "    idx = misclassified_indices[i]\n",
    "    row, col = i // 4, i % 4\n",
    "    \n",
    "    # Reshape and display the image\n",
    "    image = x_test[idx].reshape(28, 28)\n",
    "    axes[row, col].imshow(image, cmap='gray')\n",
    "    axes[row, col].set_title(f'True: {y_test_int[idx]}, Pred: {y_pred[idx]}')\n",
    "    axes[row, col].axis('off')\n",
    "\n",
    "plt.tight_layout()\n",
    "plt.show()\n",
    "\n",
    "print(f\"\\nTotal misclassified samples shown: {min(12, len(misclassified_indices))} out of {len(misclassified_indices)}\")\n"
   ]
  },
  {
   "cell_type": "code",
   "execution_count": null,
   "id": "44296867",
   "metadata": {},
   "outputs": [],
   "source": []
  }
 ],
 "metadata": {
  "kernelspec": {
   "display_name": "venv",
   "language": "python",
   "name": "python3"
  },
  "language_info": {
   "codemirror_mode": {
    "name": "ipython",
    "version": 3
   },
   "file_extension": ".py",
   "mimetype": "text/x-python",
   "name": "python",
   "nbconvert_exporter": "python",
   "pygments_lexer": "ipython3",
   "version": "3.12.4"
  }
 },
 "nbformat": 4,
 "nbformat_minor": 5
}
